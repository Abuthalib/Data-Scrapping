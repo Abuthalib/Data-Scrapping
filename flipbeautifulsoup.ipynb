{
 "cells": [
  {
   "cell_type": "code",
   "execution_count": 1,
   "id": "34bf566f-f0cb-472c-bd65-ee1c8f2f93e3",
   "metadata": {},
   "outputs": [],
   "source": [
    "### Product url\n",
    "#https://www.flipkart.com/motorola-g84-5g-viva-magneta-256-gb/product-reviews/itmed938e33ffdf5?pid=MOBGQFX672GDDQAQ&lid=LSTMOBGQFX672GDDQAQSSIAM2&marketplace=FLIPKART\n"
   ]
  },
  {
   "cell_type": "code",
   "execution_count": 2,
   "id": "7b76d418-c17a-43ab-bd83-bcc368e1201f",
   "metadata": {},
   "outputs": [],
   "source": [
    "import pandas as pd\n",
    "from bs4 import BeautifulSoup\n",
    "import requests"
   ]
  },
  {
   "cell_type": "code",
   "execution_count": 3,
   "id": "7f58ba82-fa42-42ec-b0f9-403d871e8f44",
   "metadata": {},
   "outputs": [],
   "source": [
    "base_url = 'https://www.flipkart.com/flipkart-smartbuy-1000-w-dry-iron/product-reviews/itmf3kcr58zcbh6p?pid=IRNF28ETGB7HHRWE&lid=LSTIRNF28ETGB7HHRWEYGG9WM&marketplace=FLIPKART99&page='"
   ]
  },
  {
   "cell_type": "code",
   "execution_count": 4,
   "id": "2d951c76-2147-42ce-a62c-ea8f0e86162b",
   "metadata": {},
   "outputs": [
    {
     "name": "stdout",
     "output_type": "stream",
     "text": [
      "Data collection completed.\n"
     ]
    }
   ],
   "source": [
    "j = 1\n",
    "review_data = []\n",
    "\n",
    "for i in range(1, 5):\n",
    "    url = f'{base_url}{i}'\n",
    "    html_text = requests.get(url).text\n",
    "    soup = BeautifulSoup(html_text, 'lxml')\n",
    "    reviews = soup.find_all('div', class_ = 'col EPCmJX Ma1fCG')\n",
    "\n",
    "    for review in reviews:\n",
    "        # Check if all necessary elements are present before extracting data\n",
    "        name_tag = review.find('p', class_='_2NsDsF AwS1CA')\n",
    "        stars_tag = review.find('div', class_='XQDdHH Ga3i8K')\n",
    "        review_tag = review.find('p', class_='z9E0IG')\n",
    "\n",
    "        if name_tag and stars_tag and title_tag and review_tag:\n",
    "            name = name_tag.text.strip()\n",
    "            stars = stars_tag.text.strip()\n",
    "            review = review_tag.text.strip()\n",
    "\n",
    "            # Print and append valid data to the list\n",
    "            print(j, \":\")\n",
    "            print(f'Name: {name}')\n",
    "            print(f'Stars: {stars}')\n",
    "            print(f'Review: {review}')\n",
    "            print()\n",
    "            j += 1\n",
    "            review_data.append({'Name': name, 'Stars': stars, 'Review': review})\n",
    "\n",
    "print('Data collection completed.')"
   ]
  },
  {
   "cell_type": "code",
   "execution_count": 5,
   "id": "10d5b09b-2391-4e5d-91cc-1486b9c4d92e",
   "metadata": {},
   "outputs": [
    {
     "data": {
      "text/html": [
       "<div>\n",
       "<style scoped>\n",
       "    .dataframe tbody tr th:only-of-type {\n",
       "        vertical-align: middle;\n",
       "    }\n",
       "\n",
       "    .dataframe tbody tr th {\n",
       "        vertical-align: top;\n",
       "    }\n",
       "\n",
       "    .dataframe thead th {\n",
       "        text-align: right;\n",
       "    }\n",
       "</style>\n",
       "<table border=\"1\" class=\"dataframe\">\n",
       "  <thead>\n",
       "    <tr style=\"text-align: right;\">\n",
       "      <th></th>\n",
       "    </tr>\n",
       "  </thead>\n",
       "  <tbody>\n",
       "  </tbody>\n",
       "</table>\n",
       "</div>"
      ],
      "text/plain": [
       "Empty DataFrame\n",
       "Columns: []\n",
       "Index: []"
      ]
     },
     "execution_count": 5,
     "metadata": {},
     "output_type": "execute_result"
    }
   ],
   "source": [
    "df = pd.DataFrame(review_data)\n",
    "df  "
   ]
  },
  {
   "cell_type": "code",
   "execution_count": null,
   "id": "56f9548c-6525-403e-8bc9-b1c08183f09a",
   "metadata": {},
   "outputs": [],
   "source": []
  }
 ],
 "metadata": {
  "kernelspec": {
   "display_name": "Python 3 (ipykernel)",
   "language": "python",
   "name": "python3"
  },
  "language_info": {
   "codemirror_mode": {
    "name": "ipython",
    "version": 3
   },
   "file_extension": ".py",
   "mimetype": "text/x-python",
   "name": "python",
   "nbconvert_exporter": "python",
   "pygments_lexer": "ipython3",
   "version": "3.9.18"
  }
 },
 "nbformat": 4,
 "nbformat_minor": 5
}
