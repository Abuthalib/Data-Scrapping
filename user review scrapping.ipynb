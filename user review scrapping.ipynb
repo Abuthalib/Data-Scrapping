{
 "cells": [
  {
   "cell_type": "code",
   "execution_count": 1,
   "id": "ec85dd6b-3255-46a1-b635-053cfc9c07fc",
   "metadata": {},
   "outputs": [],
   "source": [
    "#!pip install autoscraper"
   ]
  },
  {
   "cell_type": "code",
   "execution_count": 2,
   "id": "d5865f73-a21d-40fa-822d-06425d79bba2",
   "metadata": {},
   "outputs": [],
   "source": [
    "from autoscraper import AutoScraper"
   ]
  },
  {
   "cell_type": "code",
   "execution_count": 3,
   "id": "d300ea38-2bfa-4851-983c-88893e8f0e10",
   "metadata": {},
   "outputs": [],
   "source": [
    "import pandas as pd\n",
    "import time\n",
    "import requests\n",
    "from bs4 import BeautifulSoup"
   ]
  },
  {
   "cell_type": "code",
   "execution_count": 4,
   "id": "69b164f4-ffe3-4eda-b904-8c2de5482d00",
   "metadata": {},
   "outputs": [],
   "source": [
    "\n",
    "base_url=\"https://www.flipkart.com/flipkart-smartbuy-1000-w-dry-iron/product-reviews/itmf3kcr58zcbh6p?pid=IRNF28ETGB7HHRWE&lid=LSTIRNF28ETGB7HHRWEYGG9WM&marketplace=FLIPKART&page=1\"\n",
    "\n",
    "# Define the sample data we want to scrape\n",
    "wanted_list = [\"Sagar Mistari\",\"this is very good product I like it very is too very nice it's quality is super\",\"5\"]\n"
   ]
  },
  {
   "cell_type": "code",
   "execution_count": 7,
   "id": "61db2257-db93-4c72-b59f-efc1764597f4",
   "metadata": {},
   "outputs": [
    {
     "name": "stdout",
     "output_type": "stream",
     "text": [
      "['Thanks Flipkart, Good Product Good Quality ,  I am Happy With this Product & Satisfied', \"this is very good product I like it very is too very nice it's quality is super\", 'super product of very nice flipkart product keep it up safe packing super duper', \"With Phonepe Cashback got this product for Rs.365/-This Iron is 'Paisa vasool' at this Price.Good for Everyday use and Best for Travellers.\", 'nice product in This range....', 'very nice', 'I am happy.iron is very good.', 'very good iron and look also good in econony price.', \"It's a good product at cheaper rate, loved it. It has a indicator when the iron gets hot. Light weight.\", 'Value for money thanku flipkarr 👍👍', '5', '3', '4', '39', '199', '41', '55', '14', '6', '7', '19', '49', '9', '15', '1', '0', '2']\n"
     ]
    }
   ],
   "source": [
    "scraper=AutoScraper()\n",
    "result=scraper.build(base_url,wanted_list)\n",
    "print(result)"
   ]
  },
  {
   "cell_type": "code",
   "execution_count": 8,
   "id": "8e717455-8eb6-4098-8ed7-2ff4dd2433f4",
   "metadata": {},
   "outputs": [
    {
     "data": {
      "text/plain": [
       "{'rule_vwcl': ['Thanks Flipkart, Good Product Good Quality ,  I am Happy With this Product & Satisfied',\n",
       "  \"this is very good product I like it very is too very nice it's quality is super\",\n",
       "  'super product of very nice flipkart product keep it up safe packing super duper',\n",
       "  \"With Phonepe Cashback got this product for Rs.365/-This Iron is 'Paisa vasool' at this Price.Good for Everyday use and Best for Travellers.\",\n",
       "  'nice product in This range....',\n",
       "  'very nice',\n",
       "  'I am happy.iron is very good.',\n",
       "  'very good iron and look also good in econony price.',\n",
       "  \"It's a good product at cheaper rate, loved it. It has a indicator when the iron gets hot. Light weight.\",\n",
       "  'Value for money thanku flipkarr 👍👍'],\n",
       " 'rule_jf3q': ['5'],\n",
       " 'rule_m00n': ['5', '5', '5', '3', '4', '4', '4', '5', '5', '5'],\n",
       " 'rule_7jx2': ['5', '5', '5', '3', '4', '4', '4', '5', '5', '5'],\n",
       " 'rule_si2u': ['39', '199', '41', '55', '14', '6', '7', '5', '19', '4'],\n",
       " 'rule_65gp': ['5', '5', '5', '3', '4', '4', '4', '5', '5', '5'],\n",
       " 'rule_y29t': ['5', '5', '5', '3', '4', '4', '4', '5', '5', '5'],\n",
       " 'rule_h6ca': ['5', '5', '5', '3', '4', '4', '4', '5', '5', '5'],\n",
       " 'rule_ght8': ['5', '49', '9', '15', '4', '1', '1', '0', '3', '0'],\n",
       " 'rule_ie8e': ['5', '5', '5', '3', '4', '4', '4', '5', '5', '5'],\n",
       " 'rule_qsfe': ['5', '4', '3', '2', '1']}"
      ]
     },
     "execution_count": 8,
     "metadata": {},
     "output_type": "execute_result"
    }
   ],
   "source": [
    "scraper.get_result_similar(base_url,grouped=True)"
   ]
  },
  {
   "cell_type": "code",
   "execution_count": 9,
   "id": "8bff986f-a777-4617-ad98-81ef36d90c18",
   "metadata": {},
   "outputs": [],
   "source": [
    "# Set rule aliases for better readability\n",
    "scraper.set_rule_aliases({\n",
    "    'rule_vwcl': 'Review',\n",
    "    'rule_ie8e': 'Rating'\n",
    "})"
   ]
  },
  {
   "cell_type": "code",
   "execution_count": 10,
   "id": "90d2a126-648e-46ab-90d8-387817b14382",
   "metadata": {},
   "outputs": [],
   "source": [
    "# Keep only the rules for reviews and ratings\n",
    "scraper.keep_rules(['rule_vwcl','rule_ie8e'])\n"
   ]
  },
  {
   "cell_type": "code",
   "execution_count": 11,
   "id": "6a13796a-7c8b-41d2-a232-1e0a9cccb845",
   "metadata": {},
   "outputs": [],
   "source": [
    "# Save the scraper\n",
    "scraper.save('flipkart-reviews')"
   ]
  },
  {
   "cell_type": "code",
   "execution_count": 12,
   "id": "eb07f9ff-5657-4249-993f-242df28f773f",
   "metadata": {},
   "outputs": [],
   "source": [
    "results=scraper.get_result_similar('https://www.flipkart.com/flipkart-smartbuy-1000-w-dry-iron/product-reviews/itmf3kcr58zcbh6p?pid=IRNF28ETGB7HHRWE&lid=LSTIRNF28ETGB7HHRWEYGG9WM&marketplace=FLIPKART&page=1',group_by_alias=True)"
   ]
  },
  {
   "cell_type": "code",
   "execution_count": 13,
   "id": "5bf3815d-a77f-4cf1-8853-df70671d9e01",
   "metadata": {},
   "outputs": [],
   "source": [
    "reviews = results['Review']\n",
    "ratings = results['Rating']"
   ]
  },
  {
   "cell_type": "code",
   "execution_count": 15,
   "id": "8f69a246-098c-4e2a-b3d4-ee8a84ea3452",
   "metadata": {},
   "outputs": [
    {
     "name": "stdout",
     "output_type": "stream",
     "text": [
      "['Thanks Flipkart, Good Product Good Quality ,  I am Happy With this Product & Satisfied', \"this is very good product I like it very is too very nice it's quality is super\", 'super product of very nice flipkart product keep it up safe packing super duper', \"With Phonepe Cashback got this product for Rs.365/-This Iron is 'Paisa vasool' at this Price.Good for Everyday use and Best for Travellers.\", 'nice product in This range....', 'very nice', 'I am happy.iron is very good.', 'very good iron and look also good in econony price.', \"It's a good product at cheaper rate, loved it. It has a indicator when the iron gets hot. Light weight.\", 'Value for money thanku flipkarr 👍👍']\n"
     ]
    }
   ],
   "source": [
    "print(reviews)"
   ]
  },
  {
   "cell_type": "code",
   "execution_count": 16,
   "id": "9ad509bd-9747-4307-84a4-90c2ca85770e",
   "metadata": {},
   "outputs": [
    {
     "name": "stdout",
     "output_type": "stream",
     "text": [
      "['5', '5', '5', '3', '4', '4', '4', '5', '5', '5']\n"
     ]
    }
   ],
   "source": [
    "print(ratings)"
   ]
  },
  {
   "cell_type": "code",
   "execution_count": null,
   "id": "e79e6356-c652-4f5b-abef-2eaf860dcf8c",
   "metadata": {},
   "outputs": [],
   "source": []
  }
 ],
 "metadata": {
  "kernelspec": {
   "display_name": "Python 3 (ipykernel)",
   "language": "python",
   "name": "python3"
  },
  "language_info": {
   "codemirror_mode": {
    "name": "ipython",
    "version": 3
   },
   "file_extension": ".py",
   "mimetype": "text/x-python",
   "name": "python",
   "nbconvert_exporter": "python",
   "pygments_lexer": "ipython3",
   "version": "3.9.18"
  }
 },
 "nbformat": 4,
 "nbformat_minor": 5
}
